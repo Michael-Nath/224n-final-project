{
 "cells": [
  {
   "cell_type": "code",
   "execution_count": 2,
   "metadata": {},
   "outputs": [],
   "source": [
    "from datasets import load_dataset\n",
    "import requests\n",
    "import ciso8601\n",
    "import time\n",
    "import json\n",
    "from datetime import datetime"
   ]
  },
  {
   "cell_type": "code",
   "execution_count": null,
   "metadata": {},
   "outputs": [],
   "source": [
    "ds = load_dataset(\"codeparrot/github-code\", streaming=True, split='train', languages=[\"Python\"])"
   ]
  },
  {
   "cell_type": "code",
   "execution_count": 8,
   "metadata": {},
   "outputs": [],
   "source": [
    "def construct_feature_set(code_entry) -> dict[str:int]:\n",
    "    features = dict();\n",
    "    user_repo_name = code_entry['repo_name'].split('/')\n",
    "    owner = user_repo_name[0]\n",
    "    repo = \"\".join(user_repo_name[1:])\n",
    "    repo_response = requests.get(f\"https://api.github.com/repos/{owner}/{repo}\")\n",
    "    content = json.loads(repo_response.text)\n",
    "    features[\"num_stars\"] = content.get(\"stargazers_count\", 0)\n",
    "    features[\"num_forks\"] = content.get(\"forks_count\", 0)\n",
    "    features[\"num_watchers\"] = content.get(\"watchers_count\", 0)\n",
    "    features[\"num_open_issues\"] = content.get(\"open_issues_count\", 0)\n",
    "    parsed_datetime = ciso8601.parse_datetime(content.get(\"created_at\", datetime.now().isoformat()))\n",
    "    timestamp = time.mktime(parsed_datetime.timetuple())\n",
    "    features[\"created_at\"] = timestamp\n",
    "    return features"
   ]
  },
  {
   "cell_type": "code",
   "execution_count": 7,
   "metadata": {},
   "outputs": [],
   "source": [
    "# THE BELOW IS FOR PYTHON FILES (LEVERAGES INDENTATION RULES)\n",
    "def construct_list_of_functions(code_entry) -> list[str]:\n",
    "    raw_code = code_entry[\"code\"]\n",
    "    lines = raw_code.split('\\n')\n",
    "    start = -1\n",
    "    functions = []\n",
    "    amnt_tabs = 0\n",
    "    for i in range(len(lines)):\n",
    "        # disregard empty lines (prune trailing whitespace later)\n",
    "        if (start != -1 and len(lines[i]) > 0):\n",
    "            amnt_tabs_new = len(lines[i].rstrip()) - len(lines[i].strip())\n",
    "            if amnt_tabs_new <= amnt_tabs:\n",
    "                functions.append((\"\\n\".join(lines[start:i])).strip())\n",
    "                start = -1\n",
    "        elif lines[i].lstrip().startswith(\"def \"):\n",
    "            start = i\n",
    "            amnt_tabs = len(lines[i].rstrip()) - len(lines[i].strip())\n",
    "    return functions\n"
   ]
  },
  {
   "cell_type": "code",
   "execution_count": 39,
   "metadata": {},
   "outputs": [],
   "source": [
    "MAX_AMNT_CODE_ENTRIES = 100\n",
    "augmented_code_entry_data = []\n",
    "for i in range(MAX_AMNT_CODE_ENTRIES):\n",
    "    code_entry = next(iterable_ds)\n",
    "    features_set = construct_feature_set(code_entry)\n",
    "    # functions = construct_list_of_functions(code_entry[\"code\"])\n",
    "    data = dict()\n",
    "    data[\"features\"] = []\n",
    "    data[\"snippets\"] = []\n",
    "    augmented_code_entry_data.append(data)"
   ]
  },
  {
   "cell_type": "code",
   "execution_count": 9,
   "metadata": {},
   "outputs": [],
   "source": [
    "def augment_code_entry(entry):\n",
    "    repo_features = construct_feature_set(entry)\n",
    "    entry[\"reputation_features\"] = repo_features\n",
    "    if entry[\"language\"] != \"Python\":\n",
    "        return entry\n",
    "    entry[\"functions\"] = construct_list_of_functions(entry)\n",
    "    return entry"
   ]
  },
  {
   "cell_type": "code",
   "execution_count": null,
   "metadata": {},
   "outputs": [],
   "source": [
    "augmented_dataset = ds.map(augment_code_entry).to_pandas()"
   ]
  },
  {
   "cell_type": "code",
   "execution_count": 32,
   "metadata": {},
   "outputs": [],
   "source": [
    "dataset_heads = augmented_dataset.take(4)\n",
    "arr = list(dataset_heads)"
   ]
  },
  {
   "cell_type": "code",
   "execution_count": 35,
   "metadata": {},
   "outputs": [
    {
     "name": "stdout",
     "output_type": "stream",
     "text": [
      "def __init__(self, allow=None, disallow=None, secure=True, *args, **kwargs):\n",
      "\t\tsuper(TemplateField, self).__init__(*args, **kwargs)\n",
      "\t\tself.validators.append(TemplateValidator(allow, disallow, secure))\n",
      "def __init__(self, field):\n",
      "\t\tself.field = field\n",
      "def __get__(self, instance, owner):\n",
      "\t\tif instance is None:\n",
      "\t\t\traise AttributeError # ?\n",
      "def __set__(self, instance, value):\n",
      "\t\tinstance.__dict__[self.field.name] = value\n",
      "\t\tsetattr(instance, self.field.attname, json.dumps(value))\n",
      "def __delete__(self, instance):\n",
      "\t\tdel(instance.__dict__[self.field.name])\n",
      "\t\tsetattr(instance, self.field.attname, json.dumps(None))\n",
      "def get_attname(self):\n",
      "\t\treturn \"%s_json\" % self.name\n",
      "def contribute_to_class(self, cls, name):\n",
      "\t\tsuper(JSONField, self).contribute_to_class(cls, name)\n",
      "\t\tsetattr(cls, name, JSONDescriptor(self))\n",
      "\t\tmodels.signals.pre_init.connect(self.fix_init_kwarg, sender=cls)\n",
      "def fix_init_kwarg(self, sender, args, kwargs, **signal_kwargs):\n",
      "\t\t# Anything passed in as self.name is assumed to come from a serializer and\n",
      "\t\t# will be treated as a json string.\n",
      "\t\tif self.name in kwargs:\n",
      "\t\t\tvalue = kwargs.pop(self.name)\n",
      "def formfield(self, *args, **kwargs):\n",
      "\t\tkwargs[\"form_class\"] = JSONFormField\n",
      "\t\treturn super(JSONField, self).formfield(*args, **kwargs)\n",
      "def get_internal_type(self):\n",
      "\t\treturn \"TextField\"\n",
      "def to_python(self, value):\n",
      "\t\tif not value:\n",
      "\t\t\treturn []\n",
      "def get_prep_value(self, value):\n",
      "\t\treturn ','.join(value)\n",
      "def formfield(self, **kwargs):\n",
      "\t\t# This is necessary because django hard-codes TypedChoiceField for things with choices.\n",
      "\t\tdefaults = {\n",
      "\t\t\t'widget': forms.CheckboxSelectMultiple,\n",
      "\t\t\t'choices': self.get_choices(include_blank=False),\n",
      "\t\t\t'label': capfirst(self.verbose_name),\n",
      "\t\t\t'required': not self.blank,\n",
      "\t\t\t'help_text': self.help_text\n",
      "\t\t}\n",
      "\t\tif self.has_default():\n",
      "\t\t\tif callable(self.default):\n",
      "\t\t\t\tdefaults['initial'] = self.default\n",
      "\t\t\t\tdefaults['show_hidden_initial'] = True\n",
      "\t\t\telse:\n",
      "\t\t\t\tdefaults['initial'] = self.get_default()\n",
      "def validate(self, value, model_instance):\n",
      "\t\tinvalid_values = []\n",
      "\t\tfor val in value:\n",
      "\t\t\ttry:\n",
      "\t\t\t\tvalidate_slug(val)\n",
      "\t\t\texcept ValidationError:\n",
      "\t\t\t\tinvalid_values.append(val)\n",
      "def _get_choices(self):\n",
      "\t\tif isinstance(self._choices, RegistryIterator):\n",
      "\t\t\treturn self._choices.copy()\n",
      "\t\telif hasattr(self._choices, 'next'):\n",
      "\t\t\tchoices, self._choices = itertools.tee(self._choices)\n",
      "\t\t\treturn choices\n",
      "\t\telse:\n",
      "\t\t\treturn self._choices\n"
     ]
    }
   ],
   "source": [
    "print('\\n'.join(arr[0][\"functions\"]))"
   ]
  },
  {
   "cell_type": "code",
   "execution_count": null,
   "metadata": {},
   "outputs": [],
   "source": []
  }
 ],
 "metadata": {
  "kernelspec": {
   "display_name": "224n_final_proj",
   "language": "python",
   "name": "python3"
  },
  "language_info": {
   "codemirror_mode": {
    "name": "ipython",
    "version": 3
   },
   "file_extension": ".py",
   "mimetype": "text/x-python",
   "name": "python",
   "nbconvert_exporter": "python",
   "pygments_lexer": "ipython3",
   "version": "3.9.12"
  },
  "orig_nbformat": 4,
  "vscode": {
   "interpreter": {
    "hash": "2fc55353a1bb80ecd70b1e2768f9d432cf9eb903a27b85be7b0971feae070db5"
   }
  }
 },
 "nbformat": 4,
 "nbformat_minor": 2
}
